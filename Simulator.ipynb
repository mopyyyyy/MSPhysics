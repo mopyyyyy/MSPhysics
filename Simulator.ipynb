{
 "cells": [
  {
   "cell_type": "code",
   "execution_count": 1,
   "metadata": {},
   "outputs": [],
   "source": [
    "### START REQUIRED PACKAGES\n",
    "\n",
    "import numpy as np\n",
    "import matplotlib.pyplot as plt\n",
    "import scipy as sp\n",
    "import math\n",
    "\n",
    "sp.random.seed(30)"
   ]
  },
  {
   "cell_type": "code",
   "execution_count": 2,
   "metadata": {},
   "outputs": [],
   "source": [
    "### Initial variables\n",
    "\n",
    "steps = 10**5 # time steps\n",
    "dt = .001 # step size\n",
    "dt2 = dt**2\n",
    "\n",
    "# time is steps*dt\n",
    "\n",
    "### Dimensions\n",
    "\n",
    "L = 1 # for periodic boundary conditions"
   ]
  },
  {
   "cell_type": "code",
   "execution_count": 3,
   "metadata": {},
   "outputs": [],
   "source": [
    "### This defines the functions for the Rouse values\n",
    "\n",
    "def rouse(x,p):\n",
    "    return sum(x[k]*np.cos(np.pi*p*k/N) for k in range(N))/float(N)\n",
    "\n",
    "def Squarer(x,p):\n",
    "    return sum((x[k]*np.cos(np.pi*p*k/N))**2 for k in range(N))\n",
    "\n",
    "def top_value(x,y,p):\n",
    "            \n",
    "    return sum(x[i]*y[j]*np.cos(np.pi*p*i/N)*np.cos(np.pi*p*j/N) for i in range(N) for j in range(N))\n",
    "\n",
    "### This defines the force\n",
    "\n",
    "def harmonic(x):\n",
    "    values = np.zeros(N,float)\n",
    "\n",
    "    if N <= 2:\n",
    "        values[0] = k*(x[1] - x[0])\n",
    "        values[1] = k*(x[0] - x[1])\n",
    "    else:\n",
    "        values[0] = k*(x[1] - x[0])\n",
    "        for j in range(1,N-1):\n",
    "            values[j] = k*(x[j-1]-2*x[j]+x[j+1])\n",
    "        values[N-1] = k*(x[N-2] - x[N-1])\n",
    "        \n",
    "    return values\n",
    "\n",
    "### This gives increments to the Wiener process\n",
    "\n",
    "def random(dt):\n",
    "    a, b = sp.random.uniform(low=0.0,high=1.0), sp.random.uniform(low=0.0,high=1.0)\n",
    "    \n",
    "    return math.sqrt(-2*dt*np.log(a))*np.cos(2*np.pi*b)\n",
    "\n",
    "\n",
    "### This defines the initial velocity with values from the Maxwell-Boltzmann distribution\n",
    "\n",
    "def velocities(temp):\n",
    "    sigma = math.sqrt(k_b*temp/m)\n",
    "    \n",
    "    array = np.random.normal(0,sigma,N)\n",
    "    \n",
    "    # Ensure no COM drift\n",
    "    array -= sum(array)/float(N)\n",
    "    \n",
    "    # Rescale to set temperature\n",
    "    scale_factor = (3*N*k_b*temp)/sum(array*array)\n",
    "    \n",
    "    array *= scale_factor\n",
    "    \n",
    "    return array"
   ]
  },
  {
   "cell_type": "code",
   "execution_count": 5,
   "metadata": {},
   "outputs": [
    {
     "name": "stdout",
     "output_type": "stream",
     "text": [
      "Wall time: 23min 2s\n"
     ]
    }
   ],
   "source": [
    "%%time\n",
    "### This defines the variables to be used\n",
    "\n",
    "N = 100 # NUMBER OF PARTICLES\n",
    "p = 1 # This sets the value of the pth mode\n",
    "T = 1 # Temperature\n",
    "\n",
    "\n",
    "### This defines the constants\n",
    "k_b = 1 # boltzmann constant\n",
    "m = 1 # mass of bead\n",
    "friction = 1 # Value of friction coefficient\n",
    "b = (3*k_b*np.pi**2/friction)**(1/2) # average bonding length\n",
    "k = 3*k_b*T/(b**2)\n",
    "amp = 1 #amplitude of noise\n",
    "τ = 1 #correlation of noise\n",
    "\n",
    "# Initialize particle positions, velocities, accelerations, and Wiener process\n",
    "x = sp.random.uniform(0,L,size=N)\n",
    "v = velocities(T)\n",
    "acc = harmonic(x)\n",
    "\n",
    "brownian = sp.random.uniform(low=0.0,high=1.0,size=N)\n",
    "\n",
    "x_0 = np.copy(x)\n",
    "\n",
    "# Initialize Rouse arrays\n",
    "# r_top = np.zeros(steps+1)\n",
    "\n",
    "# r_top[0] = top_value(x,x_0,p)\n",
    "# denom = r_top[0]\n",
    "\n",
    "# Mean square displacement\n",
    "msd = np.zeros(steps+1)\n",
    "msd[0] = 0\n",
    "\n",
    "msd_cent = np.zeros(steps+1)\n",
    "msd_cent[0] = 0\n",
    "init_rouse = rouse(x_0,p)\n",
    "\n",
    "for ts in range(1,steps+1):\n",
    "    \n",
    "    # Update position\n",
    "    x += (harmonic(x)+amp*np.sin(math.sqrt(2/τ)*brownian))*(dt/friction)\n",
    "    \n",
    "    # Update Rouse mode\n",
    "#     r_top[ts] = top_value(x,x_0,p)\n",
    "\n",
    "    # Update Brownian\n",
    "    brownian +=\n",
    "    \n",
    "    # update MSD\n",
    "    dx_1 = 0\n",
    "    for i in range(N):\n",
    "        dx_1 += (x[i]-x_0[i])**2\n",
    "        \n",
    "    msd[ts] += dx_1\n",
    "    \n",
    "    # update MSD_cent\n",
    "    dx_2 = 0\n",
    "    for i in range(N):\n",
    "        dx_2 += (rouse(x,0)-init_rouse)**2\n",
    "        \n",
    "    msd_cent[ts] += dx_2\n",
    "    \n",
    "# r_top *= 1/denom\n",
    "msd /= float(N)\n",
    "msd_cent /= float(N)\n",
    "    \n",
    "# np.savetxt(\"N10_p10_R1_T10_F1.txt\",r_top)\n",
    "# np.savetxt(\"N10_p10_R1_T10_F1.txt\",r_top)\n",
    "\n",
    "# tarray = np.arange(0,(steps+1)*dt,dt)\n",
    "\n",
    "# fig = plt.figure(figsize=(10, 6), dpi=200)\n",
    "# ax = fig.add_subplot(111)\n",
    "# plt.semilogx(tarray,r_top)\n",
    "# plt.xlabel('Time')\n",
    "# plt.ylabel('$<R_p(t)R_p(0)>/<|R_p(0)|^2>$')\n",
    "# plt.show()"
   ]
  },
  {
   "cell_type": "code",
   "execution_count": 7,
   "metadata": {
    "scrolled": true
   },
   "outputs": [
    {
     "data": {
      "text/plain": [
       "[<matplotlib.lines.Line2D at 0x2732e912580>]"
      ]
     },
     "execution_count": 7,
     "metadata": {},
     "output_type": "execute_result"
    },
    {
     "data": {
      "image/png": "[encoded data removed]",
      "text/plain": [
       "<Figure size 432x288 with 1 Axes>"
      ]
     },
     "metadata": {
      "needs_background": "light"
     },
     "output_type": "display_data"
    }
   ],
   "source": [
    "tarray = np.arange(0,(steps+1)*dt,dt)\n",
    "\n",
    "plt.loglog(tarray,msd)"
   ]
  },
  {
   "cell_type": "code",
   "execution_count": 8,
   "metadata": {},
   "outputs": [
    {
     "data": {
      "text/plain": [
       "[<matplotlib.lines.Line2D at 0x2732ee462e0>]"
      ]
     },
     "execution_count": 8,
     "metadata": {},
     "output_type": "execute_result"
    },
    {
     "data": {
      "image/png": "[encoded data removed]",
      "text/plain": [
       "<Figure size 432x288 with 1 Axes>"
      ]
     },
     "metadata": {
      "needs_background": "light"
     },
     "output_type": "display_data"
    }
   ],
   "source": [
    "plt.loglog(tarray,msd_cent)"
   ]
  },
  {
   "cell_type": "code",
   "execution_count": 9,
   "metadata": {},
   "outputs": [],
   "source": [
    "# np.savetxt(\"N30_p1_R1_T1_F1.txt\",r_top)\n",
    "np.savetxt(\"MSD_N100_p1_R1_T1_F1.txt\",msd)\n",
    "np.savetxt(\"MSD_cent_N100_p1_R1_T1_F1.txt\",msd_cent)"
   ]
  },
  {
   "cell_type": "code",
   "execution_count": null,
   "metadata": {},
   "outputs": [],
   "source": []
  }
 ],
 "metadata": {
  "kernelspec": {
   "display_name": "Python 3",
   "language": "python",
   "name": "python3"
  },
  "language_info": {
   "codemirror_mode": {
    "name": "ipython",
    "version": 3
   },
   "file_extension": ".py",
   "mimetype": "text/x-python",
   "name": "python",
   "nbconvert_exporter": "python",
   "pygments_lexer": "ipython3",
   "version": "3.8.5"
  }
 },
 "nbformat": 4,
 "nbformat_minor": 4
}
