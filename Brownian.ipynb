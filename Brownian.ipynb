{
 "cells": [
  {
   "cell_type": "code",
   "execution_count": 15,
   "metadata": {},
   "outputs": [],
   "source": [
    "import numpy as np\n",
    "from math import sqrt\n",
    "import matplotlib.pyplot as plt\n",
    "from scipy.stats import norm\n",
    "import scipy as sp"
   ]
  },
  {
   "cell_type": "code",
   "execution_count": 47,
   "metadata": {},
   "outputs": [
    {
     "name": "stdout",
     "output_type": "stream",
     "text": [
      "Wall time: 28 ms\n"
     ]
    }
   ],
   "source": [
    "### This piece of code generates the values for the regular Wiener process\n",
    "### This only has to be run once!\n",
    "\n",
    "delta = 1**(1/2) # Sigma squared, normal Brownian has delta_s = 1\n",
    "\n",
    "N = 100 #number of particles\n",
    "steps = 10**4 # number of steps\n",
    "dt = 0.1 # step size\n",
    "\n",
    "x0 = sp.random.uniform(0,L, size = N) # Generates the initial locations of the N particles\n",
    "\n",
    "r = norm.rvs(size=x0.shape + (steps,), scale=delta*sqrt(dt)) # Grabs\n",
    "\n",
    " = np.empty(r.shape)\n",
    "\n",
    "np.cumsum(r, axis=-1,out = a)\n",
    "\n",
    "for i in range(x):\n",
    "    for j in range(y):\n",
    "        a[i][j]+=x0[i]   "
   ]
  },
  {
   "cell_type": "code",
   "execution_count": 22,
   "metadata": {},
   "outputs": [
    {
     "name": "stdout",
     "output_type": "stream",
     "text": [
      "[0.79777081 0.10027488 0.32630098 0.99760814 0.15990158]\n"
     ]
    }
   ],
   "source": [
    "print(sp.random.uniform(0,1,size = 5))"
   ]
  },
  {
   "cell_type": "code",
   "execution_count": null,
   "metadata": {},
   "outputs": [],
   "source": []
  }
 ],
 "metadata": {
  "kernelspec": {
   "display_name": "Python 3",
   "language": "python",
   "name": "python3"
  },
  "language_info": {
   "codemirror_mode": {
    "name": "ipython",
    "version": 3
   },
   "file_extension": ".py",
   "mimetype": "text/x-python",
   "name": "python",
   "nbconvert_exporter": "python",
   "pygments_lexer": "ipython3",
   "version": "3.8.5"
  }
 },
 "nbformat": 4,
 "nbformat_minor": 4
}
